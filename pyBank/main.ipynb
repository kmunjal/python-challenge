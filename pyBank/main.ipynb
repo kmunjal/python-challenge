{
 "cells": [
  {
   "cell_type": "code",
   "execution_count": 1,
   "metadata": {},
   "outputs": [],
   "source": [
    "# Import required packages\n",
    "import csv\n",
    "import os\n",
    "\n",
    "# Files to load and output \n",
    "budget_data = \"budget_data.csv\"\n"
   ]
  },
  {
   "cell_type": "code",
   "execution_count": 5,
   "metadata": {},
   "outputs": [
    {
     "name": "stdout",
     "output_type": "stream",
     "text": [
      "Financial Analysis\n",
      "--------------------\n",
      "Total Months: 86\n",
      "Total: $38382578\n",
      "Average  Change: $-2315.12\n",
      "Greatest Increase in Profits: $1926159 on Feb-12\n",
      "Greatest Decrease in Profits: $-2196167 on Sep-13\n"
     ]
    }
   ],
   "source": [
    "with open(budget_data, newline='') as csvfile:\n",
    "\n",
    "    csvreader = csv.reader(csvfile, delimiter=',')\n",
    "    csv_header = next(csvreader)\n",
    "    \n",
    "    month = []\n",
    "    P_and_L = []\n",
    "\n",
    "    # Read each row of data after the header\n",
    "    for row in csvreader:\n",
    "        month.append(row[0])\n",
    "        P_and_L.append(int(row[1]))\n",
    "        \n",
    "    print(\"Financial Analysis\")\n",
    "    print(\"--------------------\")\n",
    "    print (f\"Total Months: {len(month)}\")\n",
    "    print (f\"Total: ${sum(P_and_L)}\")\n",
    "    \n",
    "    budget_change = []\n",
    "    \n",
    "    for x in range(1,len(P_and_L)):\n",
    "        budget_change.append((int(P_and_L[x]) - int(P_and_L[x-1])))\n",
    "    \n",
    "    average_change = sum(budget_change) / len(budget_change)\n",
    "    print(f\"Average  Change: ${round(average_change,2)}\")\n",
    "    \n",
    "    greatest_increase = max(budget_change)\n",
    "    print(f\"Greatest Increase in Profits: ${greatest_increase} on {month[budget_change.index(greatest_increase)+1]}\")\n",
    "\n",
    "    greatest_decrease = min(budget_change)\n",
    "    print(f\"Greatest Decrease in Profits: ${greatest_decrease} on {month[budget_change.index(greatest_decrease)+1]}\")\n",
    "\n",
    "    #output file\n",
    "    file = open(\"output.txt\",\"w\")\n",
    "\n",
    "    file.write(\"Financial Analysis\" + \"\\n\")\n",
    "\n",
    "    file.write(\"-------------------\" + \"\\n\")\n",
    "\n",
    "    file.write(f\"Total Months: {len(month)} \\n\")\n",
    "\n",
    "    file.write(f\"Total: ${sum(P_and_L)} \\n\")\n",
    "\n",
    "    file.write(f\"Average  Change: ${round(average_change,2)} \\n\")\n",
    "\n",
    "    file.write(f\"Greatest Increase in Profits: ${greatest_increase} on {month[budget_change.index(greatest_increase)+1]} \\n\")\n",
    "\n",
    "    file.write(f\"Greatest Decrease in Profits: ${greatest_decrease} on {month[budget_change.index(greatest_decrease)+1]} \\n\")\n",
    "\n",
    "    file.close()\n",
    "    "
   ]
  },
  {
   "cell_type": "code",
   "execution_count": null,
   "metadata": {},
   "outputs": [],
   "source": [
    "\n"
   ]
  }
 ],
 "metadata": {
  "kernelspec": {
   "display_name": "Python 3",
   "language": "python",
   "name": "python3"
  },
  "language_info": {
   "codemirror_mode": {
    "name": "ipython",
    "version": 3
   },
   "file_extension": ".py",
   "mimetype": "text/x-python",
   "name": "python",
   "nbconvert_exporter": "python",
   "pygments_lexer": "ipython3",
   "version": "3.7.3"
  }
 },
 "nbformat": 4,
 "nbformat_minor": 2
}
