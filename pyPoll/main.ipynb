{
 "cells": [
  {
   "cell_type": "code",
   "execution_count": 1,
   "metadata": {},
   "outputs": [],
   "source": [
    "# Import required packages\n",
    "import csv\n",
    "import os\n",
    "\n",
    "# Files to load and output \n",
    "election_data = \"election_data.csv\""
   ]
  },
  {
   "cell_type": "code",
   "execution_count": 36,
   "metadata": {},
   "outputs": [
    {
     "name": "stdout",
     "output_type": "stream",
     "text": [
      "Election Results\n",
      "----------------------------\n",
      "Total Votes: 3521001\n",
      "Khan: 2218231 with 63.0%\n",
      "Correy: 704200 with 20.0%\n",
      "Li: 492940 with 14.0%\n",
      "O'Tooley: 105630 with 3.0%\n",
      "----------------------------\n",
      "Winner: Khan\n"
     ]
    }
   ],
   "source": [
    "with open(election_data, newline='') as csvfile:\n",
    "\n",
    "    csvreader = csv.reader(csvfile, delimiter=',')\n",
    "    csv_header = next(csvreader)\n",
    "    \n",
    "    votes = []\n",
    "    candidates = []\n",
    "\n",
    "    # Read each row of data after the header\n",
    "    for row in csvreader:\n",
    "        votes.append(row[0])\n",
    "        candidates.append(row[2])\n",
    "        \n",
    "    print(\"Election Results\")\n",
    "    print(\"----------------------------\")\n",
    "    print (f\"Total Votes: {len(votes)}\")\n",
    "    \n",
    "    kcount = candidates.count(\"Khan\")\n",
    "    kpercentage = round((kcount / len(votes))*100, 2)\n",
    "    ccount = candidates.count(\"Correy\")\n",
    "    cpercentage = round((ccount / len(votes))*100, 2)\n",
    "    lcount = candidates.count(\"Li\")\n",
    "    lpercentage = round((lcount / len(votes))*100, 2)\n",
    "    ocount = candidates.count(\"O'Tooley\")\n",
    "    opercentage = round((ocount / len(votes))*100, 2)\n",
    "    print (f\"Khan: {kcount} with {kpercentage}%\")\n",
    "    print (f\"Correy: {ccount} with {cpercentage}%\")\n",
    "    print (f\"Li: {lcount} with {lpercentage}%\")\n",
    "    print (f\"O'Tooley: {ocount} with {opercentage}%\")\n",
    "    print(\"----------------------------\")\n",
    "    \n",
    "    print(f\"Winner: {max(set(candidates), key=candidates.count)}\")\n",
    "    \n",
    "    #output file\n",
    "    file = open(\"output.txt\",\"w\")\n",
    "\n",
    "    file.write(\"Election Results\" + \"\\n\")\n",
    "\n",
    "    file.write(\"----------------------------\" + \"\\n\")\n",
    "\n",
    "    file.write(f\"Total Votes: {len(votes)} \\n\")\n",
    "\n",
    "    file.write(f\"Khan: {kcount} with {kpercentage}% \\n\")\n",
    "\n",
    "    file.write(f\"Correy: {ccount} with {cpercentage}% \\n\")\n",
    "\n",
    "    file.write(f\"Li: {lcount} with {lpercentage}% \\n\")\n",
    "\n",
    "    file.write(f\"O'Tooley: {ocount} with {opercentage}% \\n\")\n",
    "    \n",
    "    file.write(f\"Winner: {max(set(candidates), key=candidates.count)} \\n\")\n",
    "\n",
    "    file.close()\n",
    "    \n",
    "        "
   ]
  },
  {
   "cell_type": "code",
   "execution_count": null,
   "metadata": {},
   "outputs": [],
   "source": []
  }
 ],
 "metadata": {
  "kernelspec": {
   "display_name": "Python 3",
   "language": "python",
   "name": "python3"
  },
  "language_info": {
   "codemirror_mode": {
    "name": "ipython",
    "version": 3
   },
   "file_extension": ".py",
   "mimetype": "text/x-python",
   "name": "python",
   "nbconvert_exporter": "python",
   "pygments_lexer": "ipython3",
   "version": "3.7.3"
  }
 },
 "nbformat": 4,
 "nbformat_minor": 2
}
